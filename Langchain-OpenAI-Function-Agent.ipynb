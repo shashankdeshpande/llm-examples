{
  "nbformat": 4,
  "nbformat_minor": 0,
  "metadata": {
    "colab": {
      "provenance": [],
      "authorship_tag": "ABX9TyP3Gt0iUxlAr7fHPtv2g6fZ",
      "include_colab_link": true
    },
    "kernelspec": {
      "name": "python3",
      "display_name": "Python 3"
    },
    "language_info": {
      "name": "python"
    }
  },
  "cells": [
    {
      "cell_type": "markdown",
      "metadata": {
        "id": "view-in-github",
        "colab_type": "text"
      },
      "source": [
        "<a href=\"https://colab.research.google.com/github/shashankdeshpande/llm-examples/blob/master/Langchain-OpenAI-Function-Agent.ipynb\" target=\"_parent\"><img src=\"https://colab.research.google.com/assets/colab-badge.svg\" alt=\"Open In Colab\"/></a>"
      ]
    },
    {
      "cell_type": "markdown",
      "source": [
        "**This notebook is now part of Langchain Documentation**\n",
        "- PR: https://github.com/hwchase17/langchain/pull/6865\n",
        "- Langchain Documentation: https://python.langchain.com/docs/modules/agents/how_to/custom-functions-with-openai-functions-agent"
      ],
      "metadata": {
        "id": "ZKlNa8T7a60a"
      }
    },
    {
      "cell_type": "markdown",
      "source": [
        "# Custom functions with OpenAI Functions Agent\n",
        "\n",
        "This notebook goes through how to integrate custom functions with OpenAI Functions agent."
      ],
      "metadata": {
        "id": "g9EmNu5DD9YI"
      }
    },
    {
      "cell_type": "markdown",
      "source": [
        "Install libraries which are required to run this example notebook"
      ],
      "metadata": {
        "id": "LFKylC3CPtTl"
      }
    },
    {
      "cell_type": "code",
      "execution_count": null,
      "metadata": {
        "id": "GYBt-gk45eDI"
      },
      "outputs": [],
      "source": [
        "!pip install -q openai langchain yfinance"
      ]
    },
    {
      "cell_type": "markdown",
      "source": [
        "## Define custom functions"
      ],
      "metadata": {
        "id": "E2DqzmEGDPak"
      }
    },
    {
      "cell_type": "code",
      "source": [
        "import yfinance as yf\n",
        "from datetime import datetime, timedelta\n",
        "\n",
        "def get_current_stock_price(ticker):\n",
        "    \"\"\"Method to get current stock price\"\"\"\n",
        "\n",
        "    ticker_data = yf.Ticker(ticker)\n",
        "    recent = ticker_data.history(period='1d')\n",
        "    return {\n",
        "        'price': recent.iloc[0]['Close'],\n",
        "        'currency': ticker_data.info['currency']\n",
        "    }\n",
        "\n",
        "def get_stock_performance(ticker, days):\n",
        "    \"\"\"Method to get stock price change in percentage\"\"\"\n",
        "\n",
        "    past_date = datetime.today() - timedelta(days=days)\n",
        "    ticker_data = yf.Ticker(ticker)\n",
        "    history = ticker_data.history(start=past_date)\n",
        "    old_price = history.iloc[0]['Close']\n",
        "    current_price = history.iloc[-1]['Close']\n",
        "    return {\n",
        "        'percent_change': ((current_price - old_price)/old_price)*100\n",
        "        }"
      ],
      "metadata": {
        "id": "SiucthMs6SIK"
      },
      "execution_count": null,
      "outputs": []
    },
    {
      "cell_type": "code",
      "source": [
        "get_current_stock_price('MSFT')"
      ],
      "metadata": {
        "colab": {
          "base_uri": "https://localhost:8080/"
        },
        "id": "vRLINGvQR1rO",
        "outputId": "68230a4b-dda2-4273-b956-7439661e3785"
      },
      "execution_count": null,
      "outputs": [
        {
          "output_type": "execute_result",
          "data": {
            "text/plain": [
              "{'price': 334.57000732421875, 'currency': 'USD'}"
            ]
          },
          "metadata": {},
          "execution_count": 4
        }
      ]
    },
    {
      "cell_type": "code",
      "source": [
        "get_stock_performance('MSFT', 30)"
      ],
      "metadata": {
        "colab": {
          "base_uri": "https://localhost:8080/"
        },
        "id": "57T190q235mD",
        "outputId": "c6ee66ec-0659-4632-85d1-263b08826e68"
      },
      "execution_count": null,
      "outputs": [
        {
          "output_type": "execute_result",
          "data": {
            "text/plain": [
              "{'percent_change': 1.014466941163018}"
            ]
          },
          "metadata": {},
          "execution_count": 5
        }
      ]
    },
    {
      "cell_type": "markdown",
      "source": [
        "## Make custom tools"
      ],
      "metadata": {
        "id": "MT8QsdyBDhwg"
      }
    },
    {
      "cell_type": "code",
      "source": [
        "from typing import Type\n",
        "from pydantic import BaseModel, Field\n",
        "from langchain.tools import BaseTool\n",
        "\n",
        "class CurrentStockPriceInput(BaseModel):\n",
        "    \"\"\"Inputs for get_current_stock_price\"\"\"\n",
        "    ticker: str = Field(description=\"Ticker symbol of the stock\")\n",
        "\n",
        "class CurrentStockPriceTool(BaseTool):\n",
        "    name = \"get_current_stock_price\"\n",
        "    description = \"\"\"\n",
        "        Useful when you want to get current stock price.\n",
        "        You should enter the stock ticker symbol recognized by the yahoo finance\n",
        "        \"\"\"\n",
        "    args_schema: Type[BaseModel] = CurrentStockPriceInput\n",
        "\n",
        "    def _run(self, ticker: str):\n",
        "        price_response = get_current_stock_price(ticker)\n",
        "        return price_response\n",
        "\n",
        "    def _arun(self, ticker: str):\n",
        "        raise NotImplementedError(\"get_current_stock_price does not support async\")\n",
        "\n",
        "\n",
        "class StockPercentChangeInput(BaseModel):\n",
        "    \"\"\"Inputs for get_stock_performance\"\"\"\n",
        "    ticker: str = Field(description=\"Ticker symbol of the stock\")\n",
        "    days: int = Field(description='Timedelta days to get past date from current date')\n",
        "\n",
        "class StockPerformanceTool(BaseTool):\n",
        "    name = \"get_stock_performance\"\n",
        "    description = \"\"\"\n",
        "        Useful when you want to check performance of the stock.\n",
        "        You should enter the stock ticker symbol recognized by the yahoo finance.\n",
        "        You should enter days as number of days from today from which performance needs to be check.\n",
        "        output will be the change in the stock price represented as a percentage.\n",
        "        \"\"\"\n",
        "    args_schema: Type[BaseModel] = StockPercentChangeInput\n",
        "\n",
        "    def _run(self, ticker: str, days: int):\n",
        "        response = get_stock_performance(ticker, days)\n",
        "        return response\n",
        "\n",
        "    def _arun(self, ticker: str):\n",
        "        raise NotImplementedError(\"get_stock_performance does not support async\")"
      ],
      "metadata": {
        "id": "NvLOUv-XP3Ap"
      },
      "execution_count": null,
      "outputs": []
    },
    {
      "cell_type": "markdown",
      "source": [
        "## Create Agent"
      ],
      "metadata": {
        "id": "PVKoqeCyFKHF"
      }
    },
    {
      "cell_type": "code",
      "source": [
        "from langchain.agents import AgentType\n",
        "from langchain.chat_models import ChatOpenAI\n",
        "from langchain.agents import initialize_agent\n",
        "\n",
        "llm = ChatOpenAI(temperature=0, model=\"gpt-3.5-turbo-0613\")\n",
        "\n",
        "tools = [CurrentStockPriceTool(), StockPerformanceTool()]\n",
        "\n",
        "agent = initialize_agent(tools, llm, agent=AgentType.OPENAI_FUNCTIONS, verbose=True)"
      ],
      "metadata": {
        "id": "yY7qNB7vSQGh"
      },
      "execution_count": null,
      "outputs": []
    },
    {
      "cell_type": "code",
      "source": [
        "agent.run(\"What is the current price of Microsoft stock? How it has performed over past 6 months?\")"
      ],
      "metadata": {
        "colab": {
          "base_uri": "https://localhost:8080/",
          "height": 321
        },
        "id": "4X96xmgwRkcC",
        "outputId": "a91b13ef-9643-4f60-d067-c4341e0b285e"
      },
      "execution_count": null,
      "outputs": [
        {
          "output_type": "stream",
          "name": "stdout",
          "text": [
            "\n",
            "\n",
            "\u001b[1m> Entering new  chain...\u001b[0m\n",
            "\u001b[32;1m\u001b[1;3m\n",
            "Invoking: `get_current_stock_price` with `{'ticker': 'MSFT'}`\n",
            "\n",
            "\n",
            "\u001b[0m\u001b[36;1m\u001b[1;3m{'price': 334.57000732421875, 'currency': 'USD'}\u001b[0m\u001b[32;1m\u001b[1;3m\n",
            "Invoking: `get_stock_performance` with `{'ticker': 'MSFT', 'days': 180}`\n",
            "\n",
            "\n",
            "\u001b[0m\u001b[33;1m\u001b[1;3m{'percent_change': 40.163963297187905}\u001b[0m\u001b[32;1m\u001b[1;3mThe current price of Microsoft stock is $334.57 USD. \n",
            "\n",
            "Over the past 6 months, Microsoft stock has performed well with a 40.16% increase in its price.\u001b[0m\n",
            "\n",
            "\u001b[1m> Finished chain.\u001b[0m\n"
          ]
        },
        {
          "output_type": "execute_result",
          "data": {
            "text/plain": [
              "'The current price of Microsoft stock is $334.57 USD. \\n\\nOver the past 6 months, Microsoft stock has performed well with a 40.16% increase in its price.'"
            ],
            "application/vnd.google.colaboratory.intrinsic+json": {
              "type": "string"
            }
          },
          "metadata": {},
          "execution_count": 10
        }
      ]
    },
    {
      "cell_type": "code",
      "source": [
        "agent.run(\"Give me recent stock prices of Google and Meta?\")"
      ],
      "metadata": {
        "colab": {
          "base_uri": "https://localhost:8080/",
          "height": 285
        },
        "id": "nkZ_vmAcT7Al",
        "outputId": "092ebc55-4d28-4a4b-aa2a-98ae47ceec20"
      },
      "execution_count": null,
      "outputs": [
        {
          "output_type": "stream",
          "name": "stdout",
          "text": [
            "\n",
            "\n",
            "\u001b[1m> Entering new  chain...\u001b[0m\n",
            "\u001b[32;1m\u001b[1;3m\n",
            "Invoking: `get_current_stock_price` with `{'ticker': 'GOOGL'}`\n",
            "\n",
            "\n",
            "\u001b[0m\u001b[36;1m\u001b[1;3m{'price': 118.33000183105469, 'currency': 'USD'}\u001b[0m\u001b[32;1m\u001b[1;3m\n",
            "Invoking: `get_current_stock_price` with `{'ticker': 'META'}`\n",
            "\n",
            "\n",
            "\u001b[0m\u001b[36;1m\u001b[1;3m{'price': 287.04998779296875, 'currency': 'USD'}\u001b[0m\u001b[32;1m\u001b[1;3mThe recent stock price of Google (GOOGL) is $118.33 USD, and the recent stock price of Meta (META) is $287.05 USD.\u001b[0m\n",
            "\n",
            "\u001b[1m> Finished chain.\u001b[0m\n"
          ]
        },
        {
          "output_type": "execute_result",
          "data": {
            "text/plain": [
              "'The recent stock price of Google (GOOGL) is $118.33 USD, and the recent stock price of Meta (META) is $287.05 USD.'"
            ],
            "application/vnd.google.colaboratory.intrinsic+json": {
              "type": "string"
            }
          },
          "metadata": {},
          "execution_count": 12
        }
      ]
    },
    {
      "cell_type": "code",
      "source": [
        "agent.run('In the past 3 months, which stock between Microsoft, Google and Meta has performed the best?')"
      ],
      "metadata": {
        "colab": {
          "base_uri": "https://localhost:8080/",
          "height": 466
        },
        "id": "jLU-HjMq7n1o",
        "outputId": "a42194dd-26ed-4b5a-d4a2-1038420045c4"
      },
      "execution_count": null,
      "outputs": [
        {
          "output_type": "stream",
          "name": "stdout",
          "text": [
            "\n",
            "\n",
            "\u001b[1m> Entering new  chain...\u001b[0m\n",
            "\u001b[32;1m\u001b[1;3m\n",
            "Invoking: `get_stock_performance` with `{'ticker': 'MSFT', 'days': 90}`\n",
            "\n",
            "\n",
            "\u001b[0m\u001b[33;1m\u001b[1;3m{'percent_change': 18.043096235165596}\u001b[0m\u001b[32;1m\u001b[1;3m\n",
            "Invoking: `get_stock_performance` with `{'ticker': 'GOOGL', 'days': 90}`\n",
            "\n",
            "\n",
            "\u001b[0m\u001b[33;1m\u001b[1;3m{'percent_change': 17.286155760642853}\u001b[0m\u001b[32;1m\u001b[1;3m\n",
            "Invoking: `get_stock_performance` with `{'ticker': 'META', 'days': 90}`\n",
            "\n",
            "\n",
            "\u001b[0m\u001b[33;1m\u001b[1;3m{'percent_change': 38.11104351941215}\u001b[0m"
          ]
        },
        {
          "output_type": "stream",
          "name": "stderr",
          "text": [
            "WARNING:langchain.chat_models.openai:Retrying langchain.chat_models.openai.ChatOpenAI.completion_with_retry.<locals>._completion_with_retry in 1.0 seconds as it raised RateLimitError: Rate limit reached for default-gpt-3.5-turbo in organization org-GAhEDkyGWZeYvFYCJX6ZOtzV on requests per min. Limit: 3 / min. Please try again in 20s. Contact us through our help center at help.openai.com if you continue to have issues..\n",
            "WARNING:langchain.chat_models.openai:Retrying langchain.chat_models.openai.ChatOpenAI.completion_with_retry.<locals>._completion_with_retry in 2.0 seconds as it raised RateLimitError: Rate limit reached for default-gpt-3.5-turbo in organization org-GAhEDkyGWZeYvFYCJX6ZOtzV on requests per min. Limit: 3 / min. Please try again in 20s. Contact us through our help center at help.openai.com if you continue to have issues..\n",
            "WARNING:langchain.chat_models.openai:Retrying langchain.chat_models.openai.ChatOpenAI.completion_with_retry.<locals>._completion_with_retry in 4.0 seconds as it raised RateLimitError: Rate limit reached for default-gpt-3.5-turbo in organization org-GAhEDkyGWZeYvFYCJX6ZOtzV on requests per min. Limit: 3 / min. Please try again in 20s. Contact us through our help center at help.openai.com if you continue to have issues..\n",
            "WARNING:langchain.chat_models.openai:Retrying langchain.chat_models.openai.ChatOpenAI.completion_with_retry.<locals>._completion_with_retry in 8.0 seconds as it raised RateLimitError: Rate limit reached for default-gpt-3.5-turbo in organization org-GAhEDkyGWZeYvFYCJX6ZOtzV on requests per min. Limit: 3 / min. Please try again in 20s. Contact us through our help center at help.openai.com if you continue to have issues..\n"
          ]
        },
        {
          "output_type": "stream",
          "name": "stdout",
          "text": [
            "\u001b[32;1m\u001b[1;3mIn the past 3 months, Meta has performed the best with a percentage change of 38.11%. Microsoft has performed the second best with a percentage change of 18.04%, and Google has performed the least with a percentage change of 17.29%.\u001b[0m\n",
            "\n",
            "\u001b[1m> Finished chain.\u001b[0m\n"
          ]
        },
        {
          "output_type": "execute_result",
          "data": {
            "text/plain": [
              "'In the past 3 months, Meta has performed the best with a percentage change of 38.11%. Microsoft has performed the second best with a percentage change of 18.04%, and Google has performed the least with a percentage change of 17.29%.'"
            ],
            "application/vnd.google.colaboratory.intrinsic+json": {
              "type": "string"
            }
          },
          "metadata": {},
          "execution_count": 13
        }
      ]
    },
    {
      "cell_type": "code",
      "source": [],
      "metadata": {
        "id": "Z9TsRX1H7tsa"
      },
      "execution_count": null,
      "outputs": []
    }
  ]
}