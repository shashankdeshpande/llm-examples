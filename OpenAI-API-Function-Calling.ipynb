{
  "nbformat": 4,
  "nbformat_minor": 0,
  "metadata": {
    "colab": {
      "provenance": [],
      "authorship_tag": "ABX9TyPUrhjeZFK3nEmQXT0HWqrB",
      "include_colab_link": true
    },
    "kernelspec": {
      "name": "python3",
      "display_name": "Python 3"
    },
    "language_info": {
      "name": "python"
    }
  },
  "cells": [
    {
      "cell_type": "markdown",
      "metadata": {
        "id": "view-in-github",
        "colab_type": "text"
      },
      "source": [
        "<a href=\"https://colab.research.google.com/github/shashankdeshpande/llm-examples/blob/master/OpenAI_API_Function_Calling.ipynb\" target=\"_parent\"><img src=\"https://colab.research.google.com/assets/colab-badge.svg\" alt=\"Open In Colab\"/></a>"
      ]
    },
    {
      "cell_type": "markdown",
      "source": [
        "# OpenAI - Function calling capability\n",
        "\n",
        "OpenAI has recently introduced a new capability called function calling, which allows developers to describe functions to GPT-4 and GPT-3.5 and have the models create code to execute those functions\n",
        "\n",
        "This feature enables chatbots to leverage external tools, transform natural language into database queries, and extract structured data from text. The models have been fine-tuned to identify instances where a function should be invoked and provide JSON responses that align with the function signature. Function calling allows developers to more reliably get structured data back from the model\n",
        "\n",
        "**Reference** - https://openai.com/blog/function-calling-and-other-api-updates"
      ],
      "metadata": {
        "id": "V0tealCpm_8F"
      }
    },
    {
      "cell_type": "code",
      "execution_count": 1,
      "metadata": {
        "id": "T9sBwtTym7Nz"
      },
      "outputs": [],
      "source": [
        "!pip install -q openai dateparser"
      ]
    },
    {
      "cell_type": "code",
      "source": [
        "import json\n",
        "import openai\n",
        "import logging\n",
        "import requests\n",
        "import traceback\n",
        "import dateparser"
      ],
      "metadata": {
        "id": "ZP7QSWpn0cIh"
      },
      "execution_count": 2,
      "outputs": []
    },
    {
      "cell_type": "code",
      "source": [
        "logger = logging.getLogger('OpenAI-Example')\n",
        "logger.setLevel(logging.INFO)"
      ],
      "metadata": {
        "id": "Qsd_7ycmtGAw"
      },
      "execution_count": 12,
      "outputs": []
    },
    {
      "cell_type": "code",
      "source": [
        "# https://platform.openai.com/account/api-keys\n",
        "\n",
        "openai.api_key = \"YOUR_OPENAI_KEY_HERE\""
      ],
      "metadata": {
        "id": "JRA83lca_bmR"
      },
      "execution_count": 34,
      "outputs": []
    },
    {
      "cell_type": "markdown",
      "source": [
        "## Step 1 - Create a custom function\n",
        "In this step, we will be creating a personalized function that will retrieve country-specific trends upon request.\n",
        "\n",
        "We are referring google trends from here - https://trends.google.com/trends/trendingsearches/daily?geo=IN&hl=en-GB"
      ],
      "metadata": {
        "id": "gu_b33L8lJQ7"
      }
    },
    {
      "cell_type": "code",
      "source": [
        "def get_google_trends(country_code, date_string='today'):\n",
        "    \"\"\"Method to retrieve country specific trends\n",
        "\n",
        "    Args:\n",
        "        country_code (str): alpha-2 country code, example - IN,US,UK\n",
        "        date_string (str): date string supported by dateparser, example - today, yesterday\n",
        "\n",
        "    Returns:\n",
        "        list: list of dict having trend query and traffic details\n",
        "    \"\"\"\n",
        "    trends = []\n",
        "    try:\n",
        "        logger.info(f'received args - country_code: {country_code}, date_string: {date_string}')\n",
        "        dt = dateparser.parse(date_string).strftime('%Y%m%d')\n",
        "        url = 'https://trends.google.com/trends/api/dailytrends'\n",
        "        params = {'hl':'en-GB','tz':-330, 'geo': country_code, 'ns':15, 'ed': dt}\n",
        "        response = requests.get(url, params=params, timeout=5)\n",
        "        if response.status_code == 200:\n",
        "            tinfo = json.loads(response.content[5:])\n",
        "            tinfo = tinfo['default']['trendingSearchesDays'][0]\n",
        "            if tinfo['date'] == dt:\n",
        "                for i in tinfo['trendingSearches']:\n",
        "                    trends.append({\n",
        "                        'query': i['title']['query'],\n",
        "                        'traffic': i['formattedTraffic']\n",
        "                    })\n",
        "    except Exception as e:\n",
        "        logger.error('Error in get_trends: \\n {}'.format(traceback.format_exc()))\n",
        "    return trends"
      ],
      "metadata": {
        "id": "qjYqgyl024FT"
      },
      "execution_count": 13,
      "outputs": []
    },
    {
      "cell_type": "code",
      "source": [
        "get_google_trends('IN')"
      ],
      "metadata": {
        "colab": {
          "base_uri": "https://localhost:8080/"
        },
        "id": "iCIDfc8el-gx",
        "outputId": "7d49c8d0-5001-49aa-db1d-954acb10af78"
      },
      "execution_count": 14,
      "outputs": [
        {
          "output_type": "stream",
          "name": "stderr",
          "text": [
            "INFO:OpenAI-Example:received args - country_code: IN, date_string: today\n"
          ]
        },
        {
          "output_type": "execute_result",
          "data": {
            "text/plain": [
              "[{'query': 'Messi', 'traffic': '100K+'},\n",
              " {'query': 'Wagner Group', 'traffic': '20K+'},\n",
              " {'query': 'Lionel Messi', 'traffic': '20K+'},\n",
              " {'query': 'Rahul Gandhi', 'traffic': '20K+'},\n",
              " {'query': 'Ruturaj Gaikwad', 'traffic': '10K+'},\n",
              " {'query': 'TSPSC Group 4 Hall Ticket', 'traffic': '10K+'},\n",
              " {'query': 'Mary Millben', 'traffic': '10K+'},\n",
              " {'query': 'Lionel Messi Birthday', 'traffic': '5K+'}]"
            ]
          },
          "metadata": {},
          "execution_count": 14
        }
      ]
    },
    {
      "cell_type": "markdown",
      "source": [
        "## Step 2 - Specify necessary function details as required by OpenAI\n",
        "Make sure to mention clear and detailed description for function as well as arguments required by that function. This will assist the OpenAI model in determining the appropriate usage of the function and aid in extracting the essential entities from user queries.\n",
        "\n",
        "We can have details of multiple functions, currently experimenting with only one."
      ],
      "metadata": {
        "id": "GU-ksUeFm6kw"
      }
    },
    {
      "cell_type": "code",
      "source": [
        "custom_function_info = [\n",
        "    {\n",
        "        \"name\": \"get_google_trends\",\n",
        "        \"description\": \"Get list of trending queries along with traffic observed\",\n",
        "        \"parameters\": {\n",
        "            \"type\": \"object\",\n",
        "            \"properties\": {\n",
        "                \"country_code\": {\n",
        "                    \"type\": \"string\",\n",
        "                    \"description\": \"alpha-2 country code\",\n",
        "                },\n",
        "                \"date_string\": {\n",
        "                    \"type\": \"string\",\n",
        "                    \"description\": \"date string supported by dateparser\"\n",
        "                    },\n",
        "            },\n",
        "            \"required\": [\"country_code\", \"date_string\"],\n",
        "        },\n",
        "    }\n",
        "]"
      ],
      "metadata": {
        "id": "PWCaCVLwCA3J"
      },
      "execution_count": 16,
      "outputs": []
    },
    {
      "cell_type": "markdown",
      "source": [
        "## Step 3 - Call OpenAI API with custom function details"
      ],
      "metadata": {
        "id": "2oBurMVPoerR"
      }
    },
    {
      "cell_type": "code",
      "source": [
        "user_query = \"Show me current google trends in India\"\n",
        "\n",
        "openai_model = \"gpt-3.5-turbo-0613\"\n",
        "\n",
        "response = openai.ChatCompletion.create(\n",
        "    model=openai_model,\n",
        "    messages=[{\"role\": \"user\", \"content\": user_query}],\n",
        "    functions=custom_function_info,\n",
        "    function_call=\"auto\", #OpenAI will determine whether a custom function is necessary or not based on query, otherwise can set this as {\"name\": \"get_google_trends\"}\n",
        ")"
      ],
      "metadata": {
        "id": "RbnVpfJ87a3d"
      },
      "execution_count": 17,
      "outputs": []
    },
    {
      "cell_type": "code",
      "source": [
        "response"
      ],
      "metadata": {
        "colab": {
          "base_uri": "https://localhost:8080/"
        },
        "id": "M4wudg8Q_Ufu",
        "outputId": "f6b51b9d-5174-4319-8e3e-4e2736fdbc4b"
      },
      "execution_count": 18,
      "outputs": [
        {
          "output_type": "execute_result",
          "data": {
            "text/plain": [
              "<OpenAIObject chat.completion id=chatcmpl-7Utl9iv3YiXanW1Rd6dYl07TQBoKz at 0x7fb650c837e0> JSON: {\n",
              "  \"id\": \"chatcmpl-7Utl9iv3YiXanW1Rd6dYl07TQBoKz\",\n",
              "  \"object\": \"chat.completion\",\n",
              "  \"created\": 1687598535,\n",
              "  \"model\": \"gpt-3.5-turbo-0613\",\n",
              "  \"choices\": [\n",
              "    {\n",
              "      \"index\": 0,\n",
              "      \"message\": {\n",
              "        \"role\": \"assistant\",\n",
              "        \"content\": null,\n",
              "        \"function_call\": {\n",
              "          \"name\": \"get_google_trends\",\n",
              "          \"arguments\": \"{\\n  \\\"country_code\\\": \\\"IN\\\",\\n  \\\"date_string\\\": \\\"today\\\"\\n}\"\n",
              "        }\n",
              "      },\n",
              "      \"finish_reason\": \"function_call\"\n",
              "    }\n",
              "  ],\n",
              "  \"usage\": {\n",
              "    \"prompt_tokens\": 79,\n",
              "    \"completion_tokens\": 26,\n",
              "    \"total_tokens\": 105\n",
              "  }\n",
              "}"
            ]
          },
          "metadata": {},
          "execution_count": 18
        }
      ]
    },
    {
      "cell_type": "markdown",
      "source": [
        "## Step 4 - Retrieve identified arguments from the response and call the custom function"
      ],
      "metadata": {
        "id": "0o9RMDpXpJN0"
      }
    },
    {
      "cell_type": "code",
      "source": [
        "identified_func = response.choices[0].message.to_dict()\n",
        "print('Response function call: ', identified_func)\n",
        "\n",
        "identified_func_args = identified_func['function_call']['arguments']\n",
        "identified_func_args = json.loads(identified_func_args)\n",
        "print('Function arguments: ', identified_func_args)"
      ],
      "metadata": {
        "colab": {
          "base_uri": "https://localhost:8080/"
        },
        "id": "au_VgSh1_0Nt",
        "outputId": "ec64f18c-418d-47f6-fc76-105ca04ad6eb"
      },
      "execution_count": 19,
      "outputs": [
        {
          "output_type": "stream",
          "name": "stdout",
          "text": [
            "Response function call:  {'role': 'assistant', 'content': None, 'function_call': <OpenAIObject at 0x7fb650d9fec0> JSON: {\n",
            "  \"name\": \"get_google_trends\",\n",
            "  \"arguments\": \"{\\n  \\\"country_code\\\": \\\"IN\\\",\\n  \\\"date_string\\\": \\\"today\\\"\\n}\"\n",
            "}}\n",
            "Function arguments:  {'country_code': 'IN', 'date_string': 'today'}\n"
          ]
        }
      ]
    },
    {
      "cell_type": "code",
      "source": [
        "func_output = get_google_trends(**identified_func_args)\n",
        "func_output"
      ],
      "metadata": {
        "colab": {
          "base_uri": "https://localhost:8080/"
        },
        "id": "VwbfTxtmppo9",
        "outputId": "25b03602-e45d-480a-c43b-0de5e57bafa0"
      },
      "execution_count": 20,
      "outputs": [
        {
          "output_type": "stream",
          "name": "stderr",
          "text": [
            "INFO:OpenAI-Example:received args - country_code: IN, date_string: today\n"
          ]
        },
        {
          "output_type": "execute_result",
          "data": {
            "text/plain": [
              "[{'query': 'Messi', 'traffic': '100K+'},\n",
              " {'query': 'Wagner Group', 'traffic': '20K+'},\n",
              " {'query': 'Lionel Messi', 'traffic': '20K+'},\n",
              " {'query': 'Rahul Gandhi', 'traffic': '20K+'},\n",
              " {'query': 'Ruturaj Gaikwad', 'traffic': '10K+'},\n",
              " {'query': 'TSPSC Group 4 Hall Ticket', 'traffic': '10K+'},\n",
              " {'query': 'Mary Millben', 'traffic': '10K+'},\n",
              " {'query': 'Lionel Messi Birthday', 'traffic': '5K+'}]"
            ]
          },
          "metadata": {},
          "execution_count": 20
        }
      ]
    },
    {
      "cell_type": "markdown",
      "source": [
        "## Step 5: Call OpenAI with function output and query to get answer"
      ],
      "metadata": {
        "id": "Io1LJC4_p_YT"
      }
    },
    {
      "cell_type": "code",
      "source": [
        "final_response = openai.ChatCompletion.create(\n",
        "    model=openai_model,\n",
        "    messages=[\n",
        "        {\"role\": \"user\", \"content\": user_query},\n",
        "        {\"role\": \"assistant\", \"content\": None, \"function_call\": {\"name\": \"get_current_weather\", \"arguments\": json.dumps(identified_func_args)}},\n",
        "        {\"role\": \"function\", \"name\": \"get_google_trends\", \"content\": json.dumps(func_output)}\n",
        "        ],\n",
        "    functions=custom_function_info\n",
        ")"
      ],
      "metadata": {
        "id": "ohWci9ONAiT1"
      },
      "execution_count": 21,
      "outputs": []
    },
    {
      "cell_type": "code",
      "source": [
        "final_response"
      ],
      "metadata": {
        "colab": {
          "base_uri": "https://localhost:8080/"
        },
        "id": "LUW2NxGQqsED",
        "outputId": "6f54671a-88db-454c-b840-642183351833"
      },
      "execution_count": 22,
      "outputs": [
        {
          "output_type": "execute_result",
          "data": {
            "text/plain": [
              "<OpenAIObject chat.completion id=chatcmpl-7UtlQ3BqPFyZ7XNeYczOPfpSGBR6M at 0x7fb651dcb470> JSON: {\n",
              "  \"id\": \"chatcmpl-7UtlQ3BqPFyZ7XNeYczOPfpSGBR6M\",\n",
              "  \"object\": \"chat.completion\",\n",
              "  \"created\": 1687598552,\n",
              "  \"model\": \"gpt-3.5-turbo-0613\",\n",
              "  \"choices\": [\n",
              "    {\n",
              "      \"index\": 0,\n",
              "      \"message\": {\n",
              "        \"role\": \"assistant\",\n",
              "        \"content\": \"Here are the current Google trends in India:\\n\\n1. Messi - 100K+\\n2. Wagner Group - 20K+\\n3. Lionel Messi - 20K+\\n4. Rahul Gandhi - 20K+\\n5. Ruturaj Gaikwad - 10K+\\n6. TSPSC Group 4 Hall Ticket - 10K+\\n7. Mary Millben - 10K+\\n8. Lionel Messi Birthday - 5K+\"\n",
              "      },\n",
              "      \"finish_reason\": \"stop\"\n",
              "    }\n",
              "  ],\n",
              "  \"usage\": {\n",
              "    \"prompt_tokens\": 252,\n",
              "    \"completion_tokens\": 94,\n",
              "    \"total_tokens\": 346\n",
              "  }\n",
              "}"
            ]
          },
          "metadata": {},
          "execution_count": 22
        }
      ]
    },
    {
      "cell_type": "code",
      "source": [
        "print(final_response.choices[0]['message']['content'])"
      ],
      "metadata": {
        "colab": {
          "base_uri": "https://localhost:8080/"
        },
        "id": "LZcSIqGtAmgE",
        "outputId": "f33ac7c4-ac3f-404e-a627-ad298b45d18b"
      },
      "execution_count": 23,
      "outputs": [
        {
          "output_type": "stream",
          "name": "stdout",
          "text": [
            "Here are the current Google trends in India:\n",
            "\n",
            "1. Messi - 100K+\n",
            "2. Wagner Group - 20K+\n",
            "3. Lionel Messi - 20K+\n",
            "4. Rahul Gandhi - 20K+\n",
            "5. Ruturaj Gaikwad - 10K+\n",
            "6. TSPSC Group 4 Hall Ticket - 10K+\n",
            "7. Mary Millben - 10K+\n",
            "8. Lionel Messi Birthday - 5K+\n"
          ]
        }
      ]
    },
    {
      "cell_type": "markdown",
      "source": [
        "# Consolidating all these elements ..\n",
        "Creating a separate function which will return respond to user query"
      ],
      "metadata": {
        "id": "sWsbqXYUsqYq"
      }
    },
    {
      "cell_type": "code",
      "source": [
        "def ask_openai(user_query):\n",
        "    answer = ''\n",
        "    response = openai.ChatCompletion.create(\n",
        "        model=openai_model,\n",
        "        messages=[{\"role\": \"user\", \"content\": user_query}],\n",
        "        functions=custom_function_info,\n",
        "        function_call=\"auto\"\n",
        "    )\n",
        "    resp = response.choices[0].message.to_dict()\n",
        "    if 'function_call' in resp:\n",
        "        identified_func_args = json.loads(resp['function_call']['arguments'])\n",
        "        func_output = get_google_trends(**identified_func_args)\n",
        "        final_response = openai.ChatCompletion.create(\n",
        "            model=openai_model,\n",
        "            messages=[\n",
        "                {\"role\": \"user\", \"content\": user_query},\n",
        "                {\"role\": \"assistant\", \"content\": None, \"function_call\": {\"name\": resp['function_call']['name'], \"arguments\": json.dumps(identified_func_args)}},\n",
        "                {\"role\": \"function\", \"name\": resp['function_call']['name'], \"content\": json.dumps(func_output)}\n",
        "                ],\n",
        "            functions=custom_function_info\n",
        "        )\n",
        "        answer = final_response.choices[0]['message']['content']\n",
        "    else:\n",
        "        answer = resp['content']\n",
        "    return answer\n"
      ],
      "metadata": {
        "id": "or3lnl--ssn-"
      },
      "execution_count": 24,
      "outputs": []
    },
    {
      "cell_type": "code",
      "source": [
        "answer = ask_openai('Which is the most popular search trend in the nation with the largest democracy.')\n",
        "print(answer)"
      ],
      "metadata": {
        "colab": {
          "base_uri": "https://localhost:8080/"
        },
        "id": "-iVD4BDrtQpF",
        "outputId": "a186513e-c11d-4e43-a3ec-299f65ff168d"
      },
      "execution_count": 33,
      "outputs": [
        {
          "output_type": "stream",
          "name": "stderr",
          "text": [
            "INFO:OpenAI-Example:received args - country_code: IN, date_string: today\n"
          ]
        },
        {
          "output_type": "stream",
          "name": "stdout",
          "text": [
            "The most popular search trend in India, which is the nation with the largest democracy, is \"Messi\" with over 100K+ searches.\n"
          ]
        }
      ]
    },
    {
      "cell_type": "code",
      "source": [
        "answer = ask_openai('Could you provide information on the topic that was trending in the US yesterday and share the traffic data for the most popular trend?')\n",
        "print(answer)"
      ],
      "metadata": {
        "colab": {
          "base_uri": "https://localhost:8080/"
        },
        "id": "t7EwvkkQuehf",
        "outputId": "f6361211-c1a5-410a-8310-8fa4f568f26d"
      },
      "execution_count": 31,
      "outputs": [
        {
          "output_type": "stream",
          "name": "stderr",
          "text": [
            "INFO:OpenAI-Example:received args - country_code: US, date_string: yesterday\n"
          ]
        },
        {
          "output_type": "stream",
          "name": "stdout",
          "text": [
            "The following topics were trending in the US yesterday:\n",
            "\n",
            "1. Russia - 500K+ traffic\n",
            "2. Kim Petras - 100K+ traffic\n",
            "3. Frozen fruit recall - 50K+ traffic\n",
            "4. Reds - 50K+ traffic\n",
            "5. Cincinnati Reds - 50K+ traffic\n",
            "6. Evil Dead Rise - 50K+ traffic\n",
            "7. Jordan Walsh - 50K+ traffic\n",
            "8. Damian Lillard - 20K+ traffic\n",
            "9. Lonzo Ball - 20K+ traffic\n",
            "10. Taylor Swift Minneapolis - 20K+ traffic\n",
            "11. Highlands Ranch tornado - 20K+ traffic\n",
            "12. Marcus Sasser - 20K+ traffic\n",
            "13. Lab-grown meat - 20K+ traffic\n",
            "14. Knicks - 20K+ traffic\n",
            "15. Adam Rich - 20K+ traffic\n",
            "16. Nick Smith Jr - 20K+ traffic\n",
            "\n",
            "The most popular trend based on traffic was \"Russia\" with over 500K searches.\n"
          ]
        }
      ]
    },
    {
      "cell_type": "code",
      "source": [
        "# Note - In this example, custom function is not utilized which is correct\n",
        "\n",
        "answer = ask_openai('Can you explain blockchain in simple terms')\n",
        "print(answer)"
      ],
      "metadata": {
        "colab": {
          "base_uri": "https://localhost:8080/"
        },
        "id": "a8GW06T-tRQN",
        "outputId": "3ff66874-d881-4391-f46b-8555041cab25"
      },
      "execution_count": 47,
      "outputs": [
        {
          "output_type": "stream",
          "name": "stdout",
          "text": [
            "Certainly! Blockchain is a technology that allows multiple parties to maintain a secure and transparent record of transactions or information without the need for a central authority, such as a bank or government.\n",
            "\n",
            "Imagine a digital ledger or spreadsheet that is shared and continuously updated across a network of computers called nodes. Each node has a copy of this ledger and verifies the transactions or information recorded on it.\n",
            "\n",
            "When a new transaction or piece of information needs to be added to the ledger, it is grouped together with other transactions into a block. Before this block is added to the chain, it goes through a process called \"consensus.\" This means that the nodes in the network agree that the information in the block is valid and should be added.\n",
            "\n",
            "Once a block is approved and added to the chain, it becomes a permanent part of the ledger and cannot be altered or deleted. Each block also contains a reference to the previous block, creating a chain of linked blocks.\n",
            "\n",
            "This system of decentralized consensus and immutability makes blockchain highly secure and tamper-resistant. It ensures that records remain transparent and trustworthy, as anyone can view the entire history of transactions or information stored on the blockchain.\n",
            "\n",
            "Blockchain technology has various applications, with the most well-known being cryptocurrencies like Bitcoin. However, it can also be used in areas such as supply chain management, voting systems, smart contracts, and more.\n"
          ]
        }
      ]
    },
    {
      "cell_type": "code",
      "source": [],
      "metadata": {
        "id": "N52J1qXMvIjg"
      },
      "execution_count": null,
      "outputs": []
    }
  ]
}
